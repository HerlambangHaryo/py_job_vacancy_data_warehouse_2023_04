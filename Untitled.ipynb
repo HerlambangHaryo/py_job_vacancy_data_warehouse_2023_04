{
 "cells": [
  {
   "cell_type": "code",
   "execution_count": 1,
   "id": "345743ed",
   "metadata": {},
   "outputs": [
    {
     "name": "stdout",
     "output_type": "stream",
     "text": [
      "jobstreet_raws_2022\n",
      "jobstreet_raws_2022_06\n",
      "jobstreet_raws_2022_07\n"
     ]
    }
   ],
   "source": [
    "table = [\n",
    "    'jobstreet_raws_2022',\n",
    "    'jobstreet_raws_2022_06',\n",
    "    'jobstreet_raws_2022_07'\n",
    "]\n",
    "\n",
    "col = [\n",
    "    'source',\t\n",
    "\t'scriptx',\n",
    "\t'url',\t\n",
    "\t'company',\t\n",
    "\t'company_size',\t\n",
    "\t'address',\t\n",
    "\t'city',\t\n",
    "\t'phone',\t\n",
    "\t'website',\t\n",
    "\t'industry',\t\n",
    "\t'domain',\t\n",
    "\t'title',\t\n",
    "\t'career_level',\t\n",
    "\t'salary_type',\t\n",
    "\t'salary_currency',\t\n",
    "\t'salary_min',\t\n",
    "\t'salary_max',\t\n",
    "\t'placement',\t\n",
    "\t'employment_type',\t\n",
    "\t'working_hours',\t\n",
    "\t'dresscode',\t\n",
    "\t'requirement',\t\n",
    "\t'qualification',\t\n",
    "\t'field_of_study',\t\n",
    "\t'gpa_min',\t\n",
    "\t'experience',\t\n",
    "\t'generalskill',\t\n",
    "\t'hardskill',\t\n",
    "\t'softskill',\t\n",
    "\t'max_age',\t\n",
    "\t'gender',\t\n",
    "\t'description',\t\n",
    "\t'jobdesk',\t\n",
    "\t'benefit',\t\n",
    "\t'why_join',\t\n",
    "\t'apply_url',\t\n",
    "\t'open',\t\n",
    "\t'closed',\t\n",
    "\t'company_id',\t\n",
    "\t'kota_id',\n",
    "]\n",
    "\n",
    "for t in table:\n",
    "    print(t)"
   ]
  }
 ],
 "metadata": {
  "kernelspec": {
   "display_name": "Python 3 (ipykernel)",
   "language": "python",
   "name": "python3"
  },
  "language_info": {
   "codemirror_mode": {
    "name": "ipython",
    "version": 3
   },
   "file_extension": ".py",
   "mimetype": "text/x-python",
   "name": "python",
   "nbconvert_exporter": "python",
   "pygments_lexer": "ipython3",
   "version": "3.9.12"
  }
 },
 "nbformat": 4,
 "nbformat_minor": 5
}
